{
  "cells": [
    {
      "cell_type": "markdown",
      "metadata": {
        "id": "view-in-github",
        "colab_type": "text"
      },
      "source": [
        "<a href=\"https://colab.research.google.com/github/ritunagpal/AndroidSwipeLayout/blob/master/5_RAG.ipynb\" target=\"_parent\"><img src=\"https://colab.research.google.com/assets/colab-badge.svg\" alt=\"Open In Colab\"/></a>"
      ]
    },
    {
      "cell_type": "code",
      "execution_count": 3,
      "metadata": {
        "id": "7o4ruxXuxXwC"
      },
      "outputs": [],
      "source": [
        "%pip install langchain-core langchain-community faiss-cpu tiktoken PyPDF opendatasets sentence-transformers --quiet\n",
        "%pip install python-dotenv langchain-together --quiet"
      ]
    },
    {
      "cell_type": "code",
      "execution_count": 30,
      "metadata": {
        "colab": {
          "base_uri": "https://localhost:8080/"
        },
        "id": "3Xb0q9LzQ1g5",
        "outputId": "b9c84b01-875c-4386-c5a9-566e90d140e3"
      },
      "outputs": [
        {
          "output_type": "execute_result",
          "data": {
            "text/plain": [
              "False"
            ]
          },
          "metadata": {},
          "execution_count": 30
        }
      ],
      "source": [
        "import dotenv\n",
        "import os\n",
        "from langchain.document_loaders import TextLoader\n",
        "\n",
        "os.environ[\"TOGETHER_API_KEY\"] = \"4ed3130d9b14026bbded56d76f0586a9b832a4366373b2c41de78538adede286\"\n",
        "dotenv.load_dotenv()"
      ]
    },
    {
      "cell_type": "code",
      "execution_count": 5,
      "metadata": {
        "id": "xAJqfIaCxFs5"
      },
      "outputs": [],
      "source": [
        "from langchain.document_loaders import PyPDFLoader\n",
        "from langchain.text_splitter import RecursiveCharacterTextSplitter\n",
        "from langchain.prompts import ChatPromptTemplate\n",
        "from langchain.vectorstores import FAISS\n",
        "from langchain.chains import RetrievalQA\n",
        "import warnings\n",
        "from langchain_together import TogetherEmbeddings\n",
        "from langchain_community.llms import Together\n",
        "\n",
        "# warnings.filterwarnings(\"ignore\")"
      ]
    },
    {
      "cell_type": "code",
      "execution_count": 7,
      "metadata": {
        "id": "ibylzSpSxuGJ"
      },
      "outputs": [],
      "source": [
        "pdf_loader = PyPDFLoader('./1706.03762.pdf')\n",
        "pages = pdf_loader.load_and_split()"
      ]
    },
    {
      "cell_type": "code",
      "execution_count": 32,
      "metadata": {
        "id": "D1nE2z_FlUUS"
      },
      "outputs": [],
      "source": [
        "text_loader = TextLoader('./David Cameron Speech 1.txt',encoding=\"utf8\")\n",
        "text_pages = text_loader.load_and_split()"
      ]
    },
    {
      "cell_type": "code",
      "execution_count": 33,
      "metadata": {
        "id": "OIKrJw80y_mx"
      },
      "outputs": [],
      "source": [
        "text_splitter = RecursiveCharacterTextSplitter(\n",
        "    chunk_size = 1024,\n",
        "    chunk_overlap  = 128,\n",
        "    length_function = len,\n",
        ")\n",
        "chunks = text_splitter.split_documents(text_pages)"
      ]
    },
    {
      "cell_type": "code",
      "execution_count": 34,
      "metadata": {
        "colab": {
          "base_uri": "https://localhost:8080/"
        },
        "id": "-nfXn0FMloON",
        "outputId": "a239ce04-a89c-49c1-84d8-284964bcd39c"
      },
      "outputs": [
        {
          "output_type": "execute_result",
          "data": {
            "text/plain": [
              "Document(metadata={'source': './David Cameron Speech 1.txt'}, page_content='Would going it alone really give us more control over our affairs, or would we soon find that actually we had less, and that we had given up a secure future for one beset by years of uncertainty and trouble with no way back?\\nWould going it alone open up new opportunities, or would it in fact close them down and narrow our options?”\\nStronger in the World')"
            ]
          },
          "metadata": {},
          "execution_count": 34
        }
      ],
      "source": [
        "chunks[14]"
      ]
    },
    {
      "cell_type": "code",
      "execution_count": 35,
      "metadata": {
        "id": "cZpREPqpziu2"
      },
      "outputs": [],
      "source": [
        "Embeddings = TogetherEmbeddings(\n",
        "    model=\"togethercomputer/m2-bert-80M-8k-retrieval\")\n",
        "\n",
        "vectorStore = FAISS.from_texts([str(chunk) for chunk in chunks], Embeddings)"
      ]
    },
    {
      "cell_type": "code",
      "execution_count": 37,
      "metadata": {
        "id": "LvPKD5CxmHmD",
        "colab": {
          "base_uri": "https://localhost:8080/"
        },
        "outputId": "cee4ba9c-a9e1-46f4-a7c8-ba1991548061"
      },
      "outputs": [
        {
          "output_type": "execute_result",
          "data": {
            "text/plain": [
              "[Document(page_content=\"page_content='The Treasury has calculated that the cost to every household in Britain would be as high as £4,300 by 2030 if we leave. £4,300.\\nThe overwhelming weight of independent opinion – from the International Monetary Fund to the OECD, from the London School of Economics to the Institute for Fiscal Studies – also supports the fact that Britain will suffer an immediate economic shock, and then be permanently poorer for the long-term.\\nThe evidence is clear: we will be better off in, and poorer if we leave.\\nAs Charles Dunstone, the founder of Carphone Warehouse, an entrepreneur not averse to risk, has said: ‘In my experience there are calculated risks, there are clever risks, and there are unnecessary and dangerous risks. And from all I can conclude, Brexit sits firmly in the latter camp.’' metadata={'source': './David Cameron Speech 1.txt'}\"),\n",
              " Document(page_content=\"page_content='We are the product of our long history – of the decision of our forebears, of the heroism of our parents and grandparents.\\nAnd yet we are a country that also has our eyes fixed firmly on the future – that is a pioneer in the modern world: from the birth of the internet to the decoding of the genome.”\\nThe character of the British people\\n“If there is one constant in the ebb and flow of our island story, it is the character of the British people.\\nOur geography has shaped us, and shapes us today. We are special, different, unique.\\nWe have the character of an island nation which has not been invaded for almost a thousand years, and which has built institutions which have endured for centuries.\\nAs a people we are ambitious, resilient, independent-minded. And, I might add, tolerant, generous, and inventive.\\nBut above all we are obstinately practical, rigorously down to earth, natural debunkers.' metadata={'source': './David Cameron Speech 1.txt'}\")]"
            ]
          },
          "metadata": {},
          "execution_count": 37
        }
      ],
      "source": [
        "## Without LLM\n",
        "question = \"\"\"\n",
        "What has been created in the UK over the last six years?\n",
        "\"\"\"\n",
        "docs = vectorStore.similarity_search(question, k = 2)\n",
        "\n",
        "docs"
      ]
    },
    {
      "cell_type": "code",
      "execution_count": 38,
      "metadata": {
        "id": "1LhP8Ci4mMAf"
      },
      "outputs": [],
      "source": [
        "prompt = \"\"\"\n",
        "    Using this information:\n",
        "    \\n\n",
        "    Context: {context}\n",
        "    \\n\n",
        "    Answer the following:\n",
        "    \\n\n",
        "    Question: {question}\n",
        "    \\n\n",
        "    Answer:\\n\n",
        "    \"\"\"\n",
        "prompt = ChatPromptTemplate.from_template(prompt)"
      ]
    },
    {
      "cell_type": "code",
      "execution_count": 39,
      "metadata": {
        "id": "ipIXrUg8mgdw"
      },
      "outputs": [],
      "source": [
        "retriever = vectorStore.as_retriever(kwargs={\"k\": 3})\n",
        "\n",
        "llm = Together(model=\"meta-llama/Meta-Llama-3-70B-Instruct-Turbo\")\n"
      ]
    },
    {
      "cell_type": "code",
      "execution_count": 40,
      "metadata": {
        "id": "0GokVkdgqLf3"
      },
      "outputs": [],
      "source": [
        "qa_chain = RetrievalQA.from_chain_type(llm=llm,\n",
        "                                       retriever=retriever,\n",
        "                                       return_source_documents=True,\n",
        "                                       chain_type_kwargs={\n",
        "                                           'prompt': prompt,\n",
        "                                           'verbose': True\n",
        "                                           },\n",
        "                                       verbose=True\n",
        "                                       )"
      ]
    },
    {
      "cell_type": "code",
      "execution_count": 41,
      "metadata": {
        "colab": {
          "base_uri": "https://localhost:8080/"
        },
        "id": "fvEocZ-Kt0Ut",
        "outputId": "de0b7308-668f-49ed-905d-e6b6d220f33f",
        "collapsed": true
      },
      "outputs": [
        {
          "output_type": "stream",
          "name": "stdout",
          "text": [
            "\n",
            "\n",
            "\u001b[1m> Entering new RetrievalQA chain...\u001b[0m\n",
            "\n",
            "\n",
            "\u001b[1m> Entering new StuffDocumentsChain chain...\u001b[0m\n",
            "\n",
            "\n",
            "\u001b[1m> Entering new LLMChain chain...\u001b[0m\n",
            "Prompt after formatting:\n",
            "\u001b[32;1m\u001b[1;3mHuman: \n",
            "    Using this information:\n",
            "    \n",
            "\n",
            "    Context: page_content='The Treasury has calculated that the cost to every household in Britain would be as high as £4,300 by 2030 if we leave. £4,300.\n",
            "The overwhelming weight of independent opinion – from the International Monetary Fund to the OECD, from the London School of Economics to the Institute for Fiscal Studies – also supports the fact that Britain will suffer an immediate economic shock, and then be permanently poorer for the long-term.\n",
            "The evidence is clear: we will be better off in, and poorer if we leave.\n",
            "As Charles Dunstone, the founder of Carphone Warehouse, an entrepreneur not averse to risk, has said: ‘In my experience there are calculated risks, there are clever risks, and there are unnecessary and dangerous risks. And from all I can conclude, Brexit sits firmly in the latter camp.’' metadata={'source': './David Cameron Speech 1.txt'}\n",
            "\n",
            "page_content='We are the product of our long history – of the decision of our forebears, of the heroism of our parents and grandparents.\n",
            "And yet we are a country that also has our eyes fixed firmly on the future – that is a pioneer in the modern world: from the birth of the internet to the decoding of the genome.”\n",
            "The character of the British people\n",
            "“If there is one constant in the ebb and flow of our island story, it is the character of the British people.\n",
            "Our geography has shaped us, and shapes us today. We are special, different, unique.\n",
            "We have the character of an island nation which has not been invaded for almost a thousand years, and which has built institutions which have endured for centuries.\n",
            "As a people we are ambitious, resilient, independent-minded. And, I might add, tolerant, generous, and inventive.\n",
            "But above all we are obstinately practical, rigorously down to earth, natural debunkers.' metadata={'source': './David Cameron Speech 1.txt'}\n",
            "\n",
            "page_content='Our membership of the single market is one of the reasons why our economy is doing so well, why we have created almost 2.4 million jobs over the last 6 years, and why so many companies from overseas – from China or India, the United States, Australia and other Commonwealth countries invest so much in the UK.\n",
            "It is one of the factors – together with our superb workforce, the low taxes set by the British Government, and our climate of enterprise – which makes Britain such an excellent place to do business.\n",
            "All this is alongside – let us note – our attractive regulatory environment. According to the OECD, it is second only to the Netherlands, itself an EU member – giving the lie to those who claim that the British economy is being strangled by regulation from Brussels.\n",
            "If we leave, the only certainty we will have is uncertainty.\n",
            "The Treasury has calculated that the cost to every household in Britain would be as high as £4,300 by 2030 if we leave. £4,300.' metadata={'source': './David Cameron Speech 1.txt'}\n",
            "\n",
            "page_content='So from America to Asia, from Australasia and the Indian sub-continent, our friends and our biggest trading partners, or potential trading partners, are telling us very clearly: it’s your decision. But we hope you vote to stay in the European Union.\n",
            "By the way, so too are our own Dependent Territories – Gibraltar and the Falkland Islands – with whom we have such a special bond and for whom we have a special responsibility.”\n",
            "Conclusion\n",
            "“And so?\n",
            "Next month we will make our choice as a nation.\n",
            "I am very clear.\n",
            "Britain is stronger and safer in the EU, as well as better off.\n",
            "And the EU benefits from Britain being inside rather than out.\n",
            "This is a Europe that Britain has helped to shape.\n",
            "A continent that Britain helped liberate not once in the last century, but twice.\n",
            "And we always wanted two things from the EU.\n",
            "One: the creation of a vast single market; one we thought would benefit our economy enormously and spread prosperity throughout our neighbourhood.' metadata={'source': './David Cameron Speech 1.txt'}\n",
            "    \n",
            "\n",
            "    Answer the following:\n",
            "    \n",
            "\n",
            "    Question: What has been created in the UK over the last six years? \n",
            "    \n",
            "\n",
            "    Answer:\n",
            "\n",
            "    \u001b[0m\n",
            "\n",
            "\u001b[1m> Finished chain.\u001b[0m\n",
            "\n",
            "\u001b[1m> Finished chain.\u001b[0m\n",
            "\n",
            "\u001b[1m> Finished chain.\u001b[0m\n"
          ]
        }
      ],
      "source": [
        "question = \"What has been created in the UK over the last six years? \"\n",
        "\n",
        "result = qa_chain({\"query\": question})"
      ]
    },
    {
      "cell_type": "code",
      "execution_count": 42,
      "metadata": {
        "colab": {
          "base_uri": "https://localhost:8080/",
          "height": 35
        },
        "id": "5lFoivoYxGLL",
        "outputId": "fed9ddb3-3860-49fe-85ac-b030cebb1e4c"
      },
      "outputs": [
        {
          "output_type": "execute_result",
          "data": {
            "text/plain": [
              "'What has been created in the UK over the last six years? '"
            ],
            "application/vnd.google.colaboratory.intrinsic+json": {
              "type": "string"
            }
          },
          "metadata": {},
          "execution_count": 42
        }
      ],
      "source": [
        "result[\"query\"]"
      ]
    },
    {
      "cell_type": "code",
      "execution_count": 43,
      "metadata": {
        "colab": {
          "base_uri": "https://localhost:8080/"
        },
        "id": "wDPMnd6PxJNN",
        "outputId": "4db193fa-397e-4e61-8eff-6c951831b9bf"
      },
      "outputs": [
        {
          "output_type": "stream",
          "name": "stdout",
          "text": [
            " Almost 2.4 million jobs have been created in the UK over the last six years.\n"
          ]
        }
      ],
      "source": [
        "print(result[\"result\"])"
      ]
    },
    {
      "cell_type": "code",
      "execution_count": 44,
      "metadata": {
        "colab": {
          "base_uri": "https://localhost:8080/"
        },
        "id": "JZQdAX5puC4n",
        "outputId": "cf72a709-617b-449b-d4b8-5cf71b200889"
      },
      "outputs": [
        {
          "output_type": "stream",
          "name": "stdout",
          "text": [
            "page_content='The Treasury has calculated that the cost to every household in Britain would be as high as £4,300 by 2030 if we leave. £4,300.\n",
            "The overwhelming weight of independent opinion – from the International Monetary Fund to the OECD, from the London School of Economics to the Institute for Fiscal Studies – also supports the fact that Britain will suffer an immediate economic shock, and then be permanently poorer for the long-term.\n",
            "The evidence is clear: we will be better off in, and poorer if we leave.\n",
            "As Charles Dunstone, the founder of Carphone Warehouse, an entrepreneur not averse to risk, has said: ‘In my experience there are calculated risks, there are clever risks, and there are unnecessary and dangerous risks. And from all I can conclude, Brexit sits firmly in the latter camp.’' metadata={'source': './David Cameron Speech 1.txt'}\n"
          ]
        }
      ],
      "source": [
        "print(result[\"source_documents\"][0].page_content)"
      ]
    },
    {
      "cell_type": "code",
      "execution_count": 45,
      "metadata": {
        "colab": {
          "base_uri": "https://localhost:8080/"
        },
        "id": "0l04CmjsuEL6",
        "outputId": "1f9bc463-9d73-451b-a28e-a8f68ed5c7e2"
      },
      "outputs": [
        {
          "output_type": "stream",
          "name": "stdout",
          "text": [
            "Your Question:  What has been created in the UK over the last six years? \n",
            "\n",
            "Your answer:   Almost 2.4 million jobs have been created in the UK over the last six years.\n",
            "\n",
            "Sources:  [Document(page_content=\"page_content='The Treasury has calculated that the cost to every household in Britain would be as high as £4,300 by 2030 if we leave. £4,300.\\nThe overwhelming weight of independent opinion – from the International Monetary Fund to the OECD, from the London School of Economics to the Institute for Fiscal Studies – also supports the fact that Britain will suffer an immediate economic shock, and then be permanently poorer for the long-term.\\nThe evidence is clear: we will be better off in, and poorer if we leave.\\nAs Charles Dunstone, the founder of Carphone Warehouse, an entrepreneur not averse to risk, has said: ‘In my experience there are calculated risks, there are clever risks, and there are unnecessary and dangerous risks. And from all I can conclude, Brexit sits firmly in the latter camp.’' metadata={'source': './David Cameron Speech 1.txt'}\"), Document(page_content=\"page_content='We are the product of our long history – of the decision of our forebears, of the heroism of our parents and grandparents.\\nAnd yet we are a country that also has our eyes fixed firmly on the future – that is a pioneer in the modern world: from the birth of the internet to the decoding of the genome.”\\nThe character of the British people\\n“If there is one constant in the ebb and flow of our island story, it is the character of the British people.\\nOur geography has shaped us, and shapes us today. We are special, different, unique.\\nWe have the character of an island nation which has not been invaded for almost a thousand years, and which has built institutions which have endured for centuries.\\nAs a people we are ambitious, resilient, independent-minded. And, I might add, tolerant, generous, and inventive.\\nBut above all we are obstinately practical, rigorously down to earth, natural debunkers.' metadata={'source': './David Cameron Speech 1.txt'}\"), Document(page_content=\"page_content='Our membership of the single market is one of the reasons why our economy is doing so well, why we have created almost 2.4 million jobs over the last 6 years, and why so many companies from overseas – from China or India, the United States, Australia and other Commonwealth countries invest so much in the UK.\\nIt is one of the factors – together with our superb workforce, the low taxes set by the British Government, and our climate of enterprise – which makes Britain such an excellent place to do business.\\nAll this is alongside – let us note – our attractive regulatory environment. According to the OECD, it is second only to the Netherlands, itself an EU member – giving the lie to those who claim that the British economy is being strangled by regulation from Brussels.\\nIf we leave, the only certainty we will have is uncertainty.\\nThe Treasury has calculated that the cost to every household in Britain would be as high as £4,300 by 2030 if we leave. £4,300.' metadata={'source': './David Cameron Speech 1.txt'}\"), Document(page_content=\"page_content='So from America to Asia, from Australasia and the Indian sub-continent, our friends and our biggest trading partners, or potential trading partners, are telling us very clearly: it’s your decision. But we hope you vote to stay in the European Union.\\nBy the way, so too are our own Dependent Territories – Gibraltar and the Falkland Islands – with whom we have such a special bond and for whom we have a special responsibility.”\\nConclusion\\n“And so?\\nNext month we will make our choice as a nation.\\nI am very clear.\\nBritain is stronger and safer in the EU, as well as better off.\\nAnd the EU benefits from Britain being inside rather than out.\\nThis is a Europe that Britain has helped to shape.\\nA continent that Britain helped liberate not once in the last century, but twice.\\nAnd we always wanted two things from the EU.\\nOne: the creation of a vast single market; one we thought would benefit our economy enormously and spread prosperity throughout our neighbourhood.' metadata={'source': './David Cameron Speech 1.txt'}\")]\n"
          ]
        }
      ],
      "source": [
        "print(\"Your Question: \", result[\"query\"])\n",
        "print()\n",
        "print(\"Your answer: \", result[\"result\"])\n",
        "print()\n",
        "print(\"Sources: \", result[\"source_documents\"])"
      ]
    },
    {
      "cell_type": "code",
      "execution_count": 46,
      "metadata": {
        "colab": {
          "base_uri": "https://localhost:8080/",
          "height": 157
        },
        "id": "9s9KJt_8Q1g9",
        "outputId": "89bb8260-6cf9-4de2-edb0-1fb4200398ba"
      },
      "outputs": [
        {
          "output_type": "execute_result",
          "data": {
            "text/plain": [
              "\"page_content='The Treasury has calculated that the cost to every household in Britain would be as high as £4,300 by 2030 if we leave. £4,300.\\nThe overwhelming weight of independent opinion – from the International Monetary Fund to the OECD, from the London School of Economics to the Institute for Fiscal Studies – also supports the fact that Britain will suffer an immediate economic shock, and then be permanently poorer for the long-term.\\nThe evidence is clear: we will be better off in, and poorer if we leave.\\nAs Charles Dunstone, the founder of Carphone Warehouse, an entrepreneur not averse to risk, has said: ‘In my experience there are calculated risks, there are clever risks, and there are unnecessary and dangerous risks. And from all I can conclude, Brexit sits firmly in the latter camp.’' metadata={'source': './David Cameron Speech 1.txt'}\""
            ],
            "application/vnd.google.colaboratory.intrinsic+json": {
              "type": "string"
            }
          },
          "metadata": {},
          "execution_count": 46
        }
      ],
      "source": [
        "docs[0].page_content"
      ]
    }
  ],
  "metadata": {
    "accelerator": "GPU",
    "colab": {
      "gpuType": "T4",
      "provenance": [],
      "include_colab_link": true
    },
    "kernelspec": {
      "display_name": "Python 3",
      "name": "python3"
    },
    "language_info": {
      "codemirror_mode": {
        "name": "ipython",
        "version": 3
      },
      "file_extension": ".py",
      "mimetype": "text/x-python",
      "name": "python",
      "nbconvert_exporter": "python",
      "pygments_lexer": "ipython3",
      "version": "3.12.4"
    }
  },
  "nbformat": 4,
  "nbformat_minor": 0
}